{
 "cells": [
  {
   "cell_type": "markdown",
   "id": "f8f6cca7",
   "metadata": {
    "papermill": {
     "duration": 0.005297,
     "end_time": "2023-02-04T23:29:12.742993",
     "exception": false,
     "start_time": "2023-02-04T23:29:12.737696",
     "status": "completed"
    },
    "tags": []
   },
   "source": [
    "# This is my very first machine learning model, made as an exercise to the YouTube channel 'Programação Dinâmica'.\n",
    "# That's a baseline, as it lacks several steps, like preprocessing and optimization."
   ]
  },
  {
   "cell_type": "code",
   "execution_count": 1,
   "id": "4a4828a5",
   "metadata": {
    "_cell_guid": "b1076dfc-b9ad-4769-8c92-a6c4dae69d19",
    "_uuid": "8f2839f25d086af736a60e9eeb907d3b93b6e0e5",
    "execution": {
     "iopub.execute_input": "2023-02-04T23:29:12.753611Z",
     "iopub.status.busy": "2023-02-04T23:29:12.753109Z",
     "iopub.status.idle": "2023-02-04T23:29:12.768131Z",
     "shell.execute_reply": "2023-02-04T23:29:12.766974Z"
    },
    "papermill": {
     "duration": 0.023315,
     "end_time": "2023-02-04T23:29:12.770648",
     "exception": false,
     "start_time": "2023-02-04T23:29:12.747333",
     "status": "completed"
    },
    "tags": []
   },
   "outputs": [
    {
     "name": "stdout",
     "output_type": "stream",
     "text": [
      "/kaggle/input/house-prices-advanced-regression-techniques/sample_submission.csv\n",
      "/kaggle/input/house-prices-advanced-regression-techniques/data_description.txt\n",
      "/kaggle/input/house-prices-advanced-regression-techniques/train.csv\n",
      "/kaggle/input/house-prices-advanced-regression-techniques/test.csv\n"
     ]
    }
   ],
   "source": [
    "# This Python 3 environment comes with many helpful analytics libraries installed\n",
    "# It is defined by the kaggle/python Docker image: https://github.com/kaggle/docker-python\n",
    "# For example, here's several helpful packages to load\n",
    "\n",
    "import numpy as np # linear algebra\n",
    "import pandas as pd # data processing, CSV file I/O (e.g. pd.read_csv)\n",
    "\n",
    "# Input data files are available in the read-only \"../input/\" directory\n",
    "# For example, running this (by clicking run or pressing Shift+Enter) will list all files under the input directory\n",
    "\n",
    "import os\n",
    "for dirname, _, filenames in os.walk('/kaggle/input'):\n",
    "    for filename in filenames:\n",
    "        print(os.path.join(dirname, filename))\n",
    "\n",
    "# You can write up to 20GB to the current directory (/kaggle/working/) that gets preserved as output when you create a version using \"Save & Run All\" \n",
    "# You can also write temporary files to /kaggle/temp/, but they won't be saved outside of the current session"
   ]
  },
  {
   "cell_type": "code",
   "execution_count": 2,
   "id": "64f5f1e7",
   "metadata": {
    "execution": {
     "iopub.execute_input": "2023-02-04T23:29:12.781114Z",
     "iopub.status.busy": "2023-02-04T23:29:12.780680Z",
     "iopub.status.idle": "2023-02-04T23:29:12.853439Z",
     "shell.execute_reply": "2023-02-04T23:29:12.852077Z"
    },
    "papermill": {
     "duration": 0.081128,
     "end_time": "2023-02-04T23:29:12.856283",
     "exception": false,
     "start_time": "2023-02-04T23:29:12.775155",
     "status": "completed"
    },
    "tags": []
   },
   "outputs": [],
   "source": [
    "# Receiving training and testing CSV dataset\n",
    "X_full = pd.read_csv('/kaggle/input/house-prices-advanced-regression-techniques/train.csv')\n",
    "X_full_test = pd.read_csv('/kaggle/input/house-prices-advanced-regression-techniques/test.csv')"
   ]
  },
  {
   "cell_type": "code",
   "execution_count": 3,
   "id": "70b7262b",
   "metadata": {
    "execution": {
     "iopub.execute_input": "2023-02-04T23:29:12.867179Z",
     "iopub.status.busy": "2023-02-04T23:29:12.866795Z",
     "iopub.status.idle": "2023-02-04T23:29:12.902571Z",
     "shell.execute_reply": "2023-02-04T23:29:12.901442Z"
    },
    "papermill": {
     "duration": 0.044102,
     "end_time": "2023-02-04T23:29:12.905192",
     "exception": false,
     "start_time": "2023-02-04T23:29:12.861090",
     "status": "completed"
    },
    "tags": []
   },
   "outputs": [
    {
     "data": {
      "text/html": [
       "<div>\n",
       "<style scoped>\n",
       "    .dataframe tbody tr th:only-of-type {\n",
       "        vertical-align: middle;\n",
       "    }\n",
       "\n",
       "    .dataframe tbody tr th {\n",
       "        vertical-align: top;\n",
       "    }\n",
       "\n",
       "    .dataframe thead th {\n",
       "        text-align: right;\n",
       "    }\n",
       "</style>\n",
       "<table border=\"1\" class=\"dataframe\">\n",
       "  <thead>\n",
       "    <tr style=\"text-align: right;\">\n",
       "      <th></th>\n",
       "      <th>Id</th>\n",
       "      <th>MSSubClass</th>\n",
       "      <th>MSZoning</th>\n",
       "      <th>LotFrontage</th>\n",
       "      <th>LotArea</th>\n",
       "      <th>Street</th>\n",
       "      <th>Alley</th>\n",
       "      <th>LotShape</th>\n",
       "      <th>LandContour</th>\n",
       "      <th>Utilities</th>\n",
       "      <th>...</th>\n",
       "      <th>PoolArea</th>\n",
       "      <th>PoolQC</th>\n",
       "      <th>Fence</th>\n",
       "      <th>MiscFeature</th>\n",
       "      <th>MiscVal</th>\n",
       "      <th>MoSold</th>\n",
       "      <th>YrSold</th>\n",
       "      <th>SaleType</th>\n",
       "      <th>SaleCondition</th>\n",
       "      <th>SalePrice</th>\n",
       "    </tr>\n",
       "  </thead>\n",
       "  <tbody>\n",
       "    <tr>\n",
       "      <th>0</th>\n",
       "      <td>1</td>\n",
       "      <td>60</td>\n",
       "      <td>RL</td>\n",
       "      <td>65.0</td>\n",
       "      <td>8450</td>\n",
       "      <td>Pave</td>\n",
       "      <td>NaN</td>\n",
       "      <td>Reg</td>\n",
       "      <td>Lvl</td>\n",
       "      <td>AllPub</td>\n",
       "      <td>...</td>\n",
       "      <td>0</td>\n",
       "      <td>NaN</td>\n",
       "      <td>NaN</td>\n",
       "      <td>NaN</td>\n",
       "      <td>0</td>\n",
       "      <td>2</td>\n",
       "      <td>2008</td>\n",
       "      <td>WD</td>\n",
       "      <td>Normal</td>\n",
       "      <td>208500</td>\n",
       "    </tr>\n",
       "    <tr>\n",
       "      <th>1</th>\n",
       "      <td>2</td>\n",
       "      <td>20</td>\n",
       "      <td>RL</td>\n",
       "      <td>80.0</td>\n",
       "      <td>9600</td>\n",
       "      <td>Pave</td>\n",
       "      <td>NaN</td>\n",
       "      <td>Reg</td>\n",
       "      <td>Lvl</td>\n",
       "      <td>AllPub</td>\n",
       "      <td>...</td>\n",
       "      <td>0</td>\n",
       "      <td>NaN</td>\n",
       "      <td>NaN</td>\n",
       "      <td>NaN</td>\n",
       "      <td>0</td>\n",
       "      <td>5</td>\n",
       "      <td>2007</td>\n",
       "      <td>WD</td>\n",
       "      <td>Normal</td>\n",
       "      <td>181500</td>\n",
       "    </tr>\n",
       "    <tr>\n",
       "      <th>2</th>\n",
       "      <td>3</td>\n",
       "      <td>60</td>\n",
       "      <td>RL</td>\n",
       "      <td>68.0</td>\n",
       "      <td>11250</td>\n",
       "      <td>Pave</td>\n",
       "      <td>NaN</td>\n",
       "      <td>IR1</td>\n",
       "      <td>Lvl</td>\n",
       "      <td>AllPub</td>\n",
       "      <td>...</td>\n",
       "      <td>0</td>\n",
       "      <td>NaN</td>\n",
       "      <td>NaN</td>\n",
       "      <td>NaN</td>\n",
       "      <td>0</td>\n",
       "      <td>9</td>\n",
       "      <td>2008</td>\n",
       "      <td>WD</td>\n",
       "      <td>Normal</td>\n",
       "      <td>223500</td>\n",
       "    </tr>\n",
       "    <tr>\n",
       "      <th>3</th>\n",
       "      <td>4</td>\n",
       "      <td>70</td>\n",
       "      <td>RL</td>\n",
       "      <td>60.0</td>\n",
       "      <td>9550</td>\n",
       "      <td>Pave</td>\n",
       "      <td>NaN</td>\n",
       "      <td>IR1</td>\n",
       "      <td>Lvl</td>\n",
       "      <td>AllPub</td>\n",
       "      <td>...</td>\n",
       "      <td>0</td>\n",
       "      <td>NaN</td>\n",
       "      <td>NaN</td>\n",
       "      <td>NaN</td>\n",
       "      <td>0</td>\n",
       "      <td>2</td>\n",
       "      <td>2006</td>\n",
       "      <td>WD</td>\n",
       "      <td>Abnorml</td>\n",
       "      <td>140000</td>\n",
       "    </tr>\n",
       "    <tr>\n",
       "      <th>4</th>\n",
       "      <td>5</td>\n",
       "      <td>60</td>\n",
       "      <td>RL</td>\n",
       "      <td>84.0</td>\n",
       "      <td>14260</td>\n",
       "      <td>Pave</td>\n",
       "      <td>NaN</td>\n",
       "      <td>IR1</td>\n",
       "      <td>Lvl</td>\n",
       "      <td>AllPub</td>\n",
       "      <td>...</td>\n",
       "      <td>0</td>\n",
       "      <td>NaN</td>\n",
       "      <td>NaN</td>\n",
       "      <td>NaN</td>\n",
       "      <td>0</td>\n",
       "      <td>12</td>\n",
       "      <td>2008</td>\n",
       "      <td>WD</td>\n",
       "      <td>Normal</td>\n",
       "      <td>250000</td>\n",
       "    </tr>\n",
       "  </tbody>\n",
       "</table>\n",
       "<p>5 rows × 81 columns</p>\n",
       "</div>"
      ],
      "text/plain": [
       "   Id  MSSubClass MSZoning  LotFrontage  LotArea Street Alley LotShape  \\\n",
       "0   1          60       RL         65.0     8450   Pave   NaN      Reg   \n",
       "1   2          20       RL         80.0     9600   Pave   NaN      Reg   \n",
       "2   3          60       RL         68.0    11250   Pave   NaN      IR1   \n",
       "3   4          70       RL         60.0     9550   Pave   NaN      IR1   \n",
       "4   5          60       RL         84.0    14260   Pave   NaN      IR1   \n",
       "\n",
       "  LandContour Utilities  ... PoolArea PoolQC Fence MiscFeature MiscVal MoSold  \\\n",
       "0         Lvl    AllPub  ...        0    NaN   NaN         NaN       0      2   \n",
       "1         Lvl    AllPub  ...        0    NaN   NaN         NaN       0      5   \n",
       "2         Lvl    AllPub  ...        0    NaN   NaN         NaN       0      9   \n",
       "3         Lvl    AllPub  ...        0    NaN   NaN         NaN       0      2   \n",
       "4         Lvl    AllPub  ...        0    NaN   NaN         NaN       0     12   \n",
       "\n",
       "  YrSold  SaleType  SaleCondition  SalePrice  \n",
       "0   2008        WD         Normal     208500  \n",
       "1   2007        WD         Normal     181500  \n",
       "2   2008        WD         Normal     223500  \n",
       "3   2006        WD        Abnorml     140000  \n",
       "4   2008        WD         Normal     250000  \n",
       "\n",
       "[5 rows x 81 columns]"
      ]
     },
     "execution_count": 3,
     "metadata": {},
     "output_type": "execute_result"
    }
   ],
   "source": [
    "# Visualizing training dataset head\n",
    "X_full.head()"
   ]
  },
  {
   "cell_type": "code",
   "execution_count": 4,
   "id": "5f319963",
   "metadata": {
    "execution": {
     "iopub.execute_input": "2023-02-04T23:29:12.916454Z",
     "iopub.status.busy": "2023-02-04T23:29:12.916023Z",
     "iopub.status.idle": "2023-02-04T23:29:12.948504Z",
     "shell.execute_reply": "2023-02-04T23:29:12.946277Z"
    },
    "papermill": {
     "duration": 0.041183,
     "end_time": "2023-02-04T23:29:12.951096",
     "exception": false,
     "start_time": "2023-02-04T23:29:12.909913",
     "status": "completed"
    },
    "tags": []
   },
   "outputs": [
    {
     "name": "stdout",
     "output_type": "stream",
     "text": [
      "<class 'pandas.core.frame.DataFrame'>\n",
      "RangeIndex: 1460 entries, 0 to 1459\n",
      "Data columns (total 81 columns):\n",
      " #   Column         Non-Null Count  Dtype  \n",
      "---  ------         --------------  -----  \n",
      " 0   Id             1460 non-null   int64  \n",
      " 1   MSSubClass     1460 non-null   int64  \n",
      " 2   MSZoning       1460 non-null   object \n",
      " 3   LotFrontage    1201 non-null   float64\n",
      " 4   LotArea        1460 non-null   int64  \n",
      " 5   Street         1460 non-null   object \n",
      " 6   Alley          91 non-null     object \n",
      " 7   LotShape       1460 non-null   object \n",
      " 8   LandContour    1460 non-null   object \n",
      " 9   Utilities      1460 non-null   object \n",
      " 10  LotConfig      1460 non-null   object \n",
      " 11  LandSlope      1460 non-null   object \n",
      " 12  Neighborhood   1460 non-null   object \n",
      " 13  Condition1     1460 non-null   object \n",
      " 14  Condition2     1460 non-null   object \n",
      " 15  BldgType       1460 non-null   object \n",
      " 16  HouseStyle     1460 non-null   object \n",
      " 17  OverallQual    1460 non-null   int64  \n",
      " 18  OverallCond    1460 non-null   int64  \n",
      " 19  YearBuilt      1460 non-null   int64  \n",
      " 20  YearRemodAdd   1460 non-null   int64  \n",
      " 21  RoofStyle      1460 non-null   object \n",
      " 22  RoofMatl       1460 non-null   object \n",
      " 23  Exterior1st    1460 non-null   object \n",
      " 24  Exterior2nd    1460 non-null   object \n",
      " 25  MasVnrType     1452 non-null   object \n",
      " 26  MasVnrArea     1452 non-null   float64\n",
      " 27  ExterQual      1460 non-null   object \n",
      " 28  ExterCond      1460 non-null   object \n",
      " 29  Foundation     1460 non-null   object \n",
      " 30  BsmtQual       1423 non-null   object \n",
      " 31  BsmtCond       1423 non-null   object \n",
      " 32  BsmtExposure   1422 non-null   object \n",
      " 33  BsmtFinType1   1423 non-null   object \n",
      " 34  BsmtFinSF1     1460 non-null   int64  \n",
      " 35  BsmtFinType2   1422 non-null   object \n",
      " 36  BsmtFinSF2     1460 non-null   int64  \n",
      " 37  BsmtUnfSF      1460 non-null   int64  \n",
      " 38  TotalBsmtSF    1460 non-null   int64  \n",
      " 39  Heating        1460 non-null   object \n",
      " 40  HeatingQC      1460 non-null   object \n",
      " 41  CentralAir     1460 non-null   object \n",
      " 42  Electrical     1459 non-null   object \n",
      " 43  1stFlrSF       1460 non-null   int64  \n",
      " 44  2ndFlrSF       1460 non-null   int64  \n",
      " 45  LowQualFinSF   1460 non-null   int64  \n",
      " 46  GrLivArea      1460 non-null   int64  \n",
      " 47  BsmtFullBath   1460 non-null   int64  \n",
      " 48  BsmtHalfBath   1460 non-null   int64  \n",
      " 49  FullBath       1460 non-null   int64  \n",
      " 50  HalfBath       1460 non-null   int64  \n",
      " 51  BedroomAbvGr   1460 non-null   int64  \n",
      " 52  KitchenAbvGr   1460 non-null   int64  \n",
      " 53  KitchenQual    1460 non-null   object \n",
      " 54  TotRmsAbvGrd   1460 non-null   int64  \n",
      " 55  Functional     1460 non-null   object \n",
      " 56  Fireplaces     1460 non-null   int64  \n",
      " 57  FireplaceQu    770 non-null    object \n",
      " 58  GarageType     1379 non-null   object \n",
      " 59  GarageYrBlt    1379 non-null   float64\n",
      " 60  GarageFinish   1379 non-null   object \n",
      " 61  GarageCars     1460 non-null   int64  \n",
      " 62  GarageArea     1460 non-null   int64  \n",
      " 63  GarageQual     1379 non-null   object \n",
      " 64  GarageCond     1379 non-null   object \n",
      " 65  PavedDrive     1460 non-null   object \n",
      " 66  WoodDeckSF     1460 non-null   int64  \n",
      " 67  OpenPorchSF    1460 non-null   int64  \n",
      " 68  EnclosedPorch  1460 non-null   int64  \n",
      " 69  3SsnPorch      1460 non-null   int64  \n",
      " 70  ScreenPorch    1460 non-null   int64  \n",
      " 71  PoolArea       1460 non-null   int64  \n",
      " 72  PoolQC         7 non-null      object \n",
      " 73  Fence          281 non-null    object \n",
      " 74  MiscFeature    54 non-null     object \n",
      " 75  MiscVal        1460 non-null   int64  \n",
      " 76  MoSold         1460 non-null   int64  \n",
      " 77  YrSold         1460 non-null   int64  \n",
      " 78  SaleType       1460 non-null   object \n",
      " 79  SaleCondition  1460 non-null   object \n",
      " 80  SalePrice      1460 non-null   int64  \n",
      "dtypes: float64(3), int64(35), object(43)\n",
      "memory usage: 924.0+ KB\n"
     ]
    }
   ],
   "source": [
    "# Visualizing the data type of the columns on the dataset\n",
    "X_full.info()"
   ]
  },
  {
   "cell_type": "code",
   "execution_count": 5,
   "id": "c3547174",
   "metadata": {
    "execution": {
     "iopub.execute_input": "2023-02-04T23:29:12.962354Z",
     "iopub.status.busy": "2023-02-04T23:29:12.961925Z",
     "iopub.status.idle": "2023-02-04T23:29:12.977464Z",
     "shell.execute_reply": "2023-02-04T23:29:12.976011Z"
    },
    "papermill": {
     "duration": 0.02375,
     "end_time": "2023-02-04T23:29:12.979840",
     "exception": false,
     "start_time": "2023-02-04T23:29:12.956090",
     "status": "completed"
    },
    "tags": []
   },
   "outputs": [],
   "source": [
    "# Currently, I don't know how to treat categorical and NA values,\n",
    "# so I am just going to drop those values\n",
    "X_full = X_full.select_dtypes(exclude=['object']).dropna()\n",
    "X_full_test = X_full_test.select_dtypes(exclude=['object']).dropna()"
   ]
  },
  {
   "cell_type": "code",
   "execution_count": 6,
   "id": "4060273b",
   "metadata": {
    "execution": {
     "iopub.execute_input": "2023-02-04T23:29:12.991465Z",
     "iopub.status.busy": "2023-02-04T23:29:12.990686Z",
     "iopub.status.idle": "2023-02-04T23:29:13.002699Z",
     "shell.execute_reply": "2023-02-04T23:29:13.001817Z"
    },
    "papermill": {
     "duration": 0.0205,
     "end_time": "2023-02-04T23:29:13.005192",
     "exception": false,
     "start_time": "2023-02-04T23:29:12.984692",
     "status": "completed"
    },
    "tags": []
   },
   "outputs": [],
   "source": [
    "# Creating the X's and y's\n",
    "\n",
    "# Features (without the price label)\n",
    "X = X_full.drop(['SalePrice'], axis=1)\n",
    "\n",
    "# The label (price)\n",
    "y = X_full.SalePrice\n",
    "\n",
    "# Defining the test set\n",
    "X_test = X_full_test"
   ]
  },
  {
   "cell_type": "code",
   "execution_count": 7,
   "id": "eae01017",
   "metadata": {
    "execution": {
     "iopub.execute_input": "2023-02-04T23:29:13.016847Z",
     "iopub.status.busy": "2023-02-04T23:29:13.016445Z",
     "iopub.status.idle": "2023-02-04T23:29:14.260407Z",
     "shell.execute_reply": "2023-02-04T23:29:14.259216Z"
    },
    "papermill": {
     "duration": 1.252828,
     "end_time": "2023-02-04T23:29:14.263039",
     "exception": false,
     "start_time": "2023-02-04T23:29:13.010211",
     "status": "completed"
    },
    "tags": []
   },
   "outputs": [],
   "source": [
    "# Importing scikit-learn split method\n",
    "from sklearn.model_selection import train_test_split\n",
    "# Importing the scikit-learn decision tree regressor model\n",
    "from sklearn.tree import DecisionTreeRegressor"
   ]
  },
  {
   "cell_type": "code",
   "execution_count": 8,
   "id": "0690e832",
   "metadata": {
    "execution": {
     "iopub.execute_input": "2023-02-04T23:29:14.274283Z",
     "iopub.status.busy": "2023-02-04T23:29:14.273881Z",
     "iopub.status.idle": "2023-02-04T23:29:14.281874Z",
     "shell.execute_reply": "2023-02-04T23:29:14.280796Z"
    },
    "papermill": {
     "duration": 0.016335,
     "end_time": "2023-02-04T23:29:14.284311",
     "exception": false,
     "start_time": "2023-02-04T23:29:14.267976",
     "status": "completed"
    },
    "tags": []
   },
   "outputs": [],
   "source": [
    "# Splitting\n",
    "X_train, X_val, y_train, y_val = train_test_split(X, y, train_size=0.8, random_state=3)"
   ]
  },
  {
   "cell_type": "code",
   "execution_count": 9,
   "id": "50a78262",
   "metadata": {
    "execution": {
     "iopub.execute_input": "2023-02-04T23:29:14.295602Z",
     "iopub.status.busy": "2023-02-04T23:29:14.295235Z",
     "iopub.status.idle": "2023-02-04T23:29:14.300377Z",
     "shell.execute_reply": "2023-02-04T23:29:14.299272Z"
    },
    "papermill": {
     "duration": 0.013608,
     "end_time": "2023-02-04T23:29:14.302665",
     "exception": false,
     "start_time": "2023-02-04T23:29:14.289057",
     "status": "completed"
    },
    "tags": []
   },
   "outputs": [],
   "source": [
    "# Creating the model\n",
    "house_prices_model = DecisionTreeRegressor(random_state=0)"
   ]
  },
  {
   "cell_type": "code",
   "execution_count": 10,
   "id": "fbaa50e1",
   "metadata": {
    "execution": {
     "iopub.execute_input": "2023-02-04T23:29:14.314058Z",
     "iopub.status.busy": "2023-02-04T23:29:14.313419Z",
     "iopub.status.idle": "2023-02-04T23:29:14.337984Z",
     "shell.execute_reply": "2023-02-04T23:29:14.337082Z"
    },
    "papermill": {
     "duration": 0.033034,
     "end_time": "2023-02-04T23:29:14.340452",
     "exception": false,
     "start_time": "2023-02-04T23:29:14.307418",
     "status": "completed"
    },
    "tags": []
   },
   "outputs": [
    {
     "data": {
      "text/plain": [
       "DecisionTreeRegressor(random_state=0)"
      ]
     },
     "execution_count": 10,
     "metadata": {},
     "output_type": "execute_result"
    }
   ],
   "source": [
    "# The training\n",
    "house_prices_model.fit(X_train, y_train)"
   ]
  },
  {
   "cell_type": "code",
   "execution_count": 11,
   "id": "8ff71233",
   "metadata": {
    "execution": {
     "iopub.execute_input": "2023-02-04T23:29:14.352950Z",
     "iopub.status.busy": "2023-02-04T23:29:14.352533Z",
     "iopub.status.idle": "2023-02-04T23:29:14.359600Z",
     "shell.execute_reply": "2023-02-04T23:29:14.358813Z"
    },
    "papermill": {
     "duration": 0.015427,
     "end_time": "2023-02-04T23:29:14.361694",
     "exception": false,
     "start_time": "2023-02-04T23:29:14.346267",
     "status": "completed"
    },
    "tags": []
   },
   "outputs": [],
   "source": [
    "# Predicting values based on the validation training set\n",
    "val_predictions = house_prices_model.predict(X_val)"
   ]
  },
  {
   "cell_type": "code",
   "execution_count": 12,
   "id": "e0f174e0",
   "metadata": {
    "execution": {
     "iopub.execute_input": "2023-02-04T23:29:14.373656Z",
     "iopub.status.busy": "2023-02-04T23:29:14.372978Z",
     "iopub.status.idle": "2023-02-04T23:29:14.379317Z",
     "shell.execute_reply": "2023-02-04T23:29:14.378503Z"
    },
    "papermill": {
     "duration": 0.014439,
     "end_time": "2023-02-04T23:29:14.381446",
     "exception": false,
     "start_time": "2023-02-04T23:29:14.367007",
     "status": "completed"
    },
    "tags": []
   },
   "outputs": [],
   "source": [
    "# What is the error? (Mean Square Error)\n",
    "from sklearn.metrics import mean_squared_error\n",
    "# What is the error? (Mean Absolute Error)\n",
    "from sklearn.metrics import mean_absolute_error\n",
    "\n",
    "# Mean Squared Error\n",
    "mse = mean_squared_error(y_val, val_predictions) # y_true, y_pred\n",
    "# Rooted Mean Squared Error\n",
    "rmse = mean_squared_error(y_val, val_predictions, squared=False)\n",
    "# Mean Absolute Error\n",
    "mae = mean_absolute_error(y_val, val_predictions)"
   ]
  },
  {
   "cell_type": "code",
   "execution_count": 13,
   "id": "046795a2",
   "metadata": {
    "execution": {
     "iopub.execute_input": "2023-02-04T23:29:14.392941Z",
     "iopub.status.busy": "2023-02-04T23:29:14.392551Z",
     "iopub.status.idle": "2023-02-04T23:29:14.397804Z",
     "shell.execute_reply": "2023-02-04T23:29:14.396687Z"
    },
    "papermill": {
     "duration": 0.013838,
     "end_time": "2023-02-04T23:29:14.400332",
     "exception": false,
     "start_time": "2023-02-04T23:29:14.386494",
     "status": "completed"
    },
    "tags": []
   },
   "outputs": [
    {
     "name": "stdout",
     "output_type": "stream",
     "text": [
      "2561615208.8755555\n",
      "50612.40172996689\n",
      "27598.68888888889\n"
     ]
    }
   ],
   "source": [
    "print(mse)\n",
    "print(rmse)\n",
    "print(mae)"
   ]
  },
  {
   "cell_type": "code",
   "execution_count": 14,
   "id": "727c706b",
   "metadata": {
    "execution": {
     "iopub.execute_input": "2023-02-04T23:29:14.411607Z",
     "iopub.status.busy": "2023-02-04T23:29:14.411248Z",
     "iopub.status.idle": "2023-02-04T23:29:14.423556Z",
     "shell.execute_reply": "2023-02-04T23:29:14.422795Z"
    },
    "papermill": {
     "duration": 0.020715,
     "end_time": "2023-02-04T23:29:14.425859",
     "exception": false,
     "start_time": "2023-02-04T23:29:14.405144",
     "status": "completed"
    },
    "tags": []
   },
   "outputs": [
    {
     "data": {
      "text/plain": [
       "count      1121.000000\n",
       "mean     185506.152542\n",
       "std       82999.159004\n",
       "min       35311.000000\n",
       "25%      131000.000000\n",
       "50%      164900.000000\n",
       "75%      219500.000000\n",
       "max      755000.000000\n",
       "Name: SalePrice, dtype: float64"
      ]
     },
     "execution_count": 14,
     "metadata": {},
     "output_type": "execute_result"
    }
   ],
   "source": [
    "# Comparing to the stats of label\n",
    "X_full.SalePrice.describe()"
   ]
  }
 ],
 "metadata": {
  "kernelspec": {
   "display_name": "Python 3",
   "language": "python",
   "name": "python3"
  },
  "language_info": {
   "codemirror_mode": {
    "name": "ipython",
    "version": 3
   },
   "file_extension": ".py",
   "mimetype": "text/x-python",
   "name": "python",
   "nbconvert_exporter": "python",
   "pygments_lexer": "ipython3",
   "version": "3.7.12"
  },
  "papermill": {
   "default_parameters": {},
   "duration": 10.992174,
   "end_time": "2023-02-04T23:29:15.252556",
   "environment_variables": {},
   "exception": null,
   "input_path": "__notebook__.ipynb",
   "output_path": "__notebook__.ipynb",
   "parameters": {},
   "start_time": "2023-02-04T23:29:04.260382",
   "version": "2.3.4"
  }
 },
 "nbformat": 4,
 "nbformat_minor": 5
}
